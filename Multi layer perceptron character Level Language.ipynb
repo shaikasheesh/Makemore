{
 "cells": [
  {
   "cell_type": "code",
   "execution_count": 188,
   "id": "35cd571e",
   "metadata": {},
   "outputs": [],
   "source": [
    "#Importing required libraries\n",
    "import random\n",
    "import requests\n",
    "import torch\n",
    "import torch.nn.functional as F"
   ]
  },
  {
   "cell_type": "code",
   "execution_count": 7,
   "id": "2ed4b518",
   "metadata": {},
   "outputs": [
    {
     "name": "stdout",
     "output_type": "stream",
     "text": [
      "Data downloaded and saved to names.txt\n"
     ]
    }
   ],
   "source": [
    "#downloading the data from web url\n",
    "\n",
    "url = \"https://raw.githubusercontent.com/karpathy/makemore/master/names.txt\"\n",
    "output_file_path = \"names.txt\"\n",
    "\n",
    "response = requests.get(url)\n",
    "\n",
    "if response.status_code == 200:\n",
    "    data = response.text\n",
    "    with open(output_file_path, \"w\") as output_file:\n",
    "        output_file.write(data)\n",
    "    print(f\"Data downloaded and saved to {output_file_path}\")\n",
    "else:\n",
    "    print(\"Failed to retrieve data from the URL.\")\n"
   ]
  },
  {
   "cell_type": "code",
   "execution_count": 8,
   "id": "075acfe0",
   "metadata": {
    "scrolled": true
   },
   "outputs": [
    {
     "data": {
      "text/plain": [
       "['emma', 'olivia', 'ava', 'isabella', 'sophia', 'charlotte', 'mia', 'amelia']"
      ]
     },
     "execution_count": 8,
     "metadata": {},
     "output_type": "execute_result"
    }
   ],
   "source": [
    "#opening the txt file in read mode\n",
    "words = open('names.txt', 'r').read().splitlines()\n",
    "words[:8]"
   ]
  },
  {
   "cell_type": "code",
   "execution_count": 14,
   "id": "4e557f37",
   "metadata": {},
   "outputs": [],
   "source": [
    "#creating the sorted list of unique characters\n",
    "chars = sorted(list(set(''.join(words))))"
   ]
  },
  {
   "cell_type": "code",
   "execution_count": 63,
   "id": "5cc609be",
   "metadata": {},
   "outputs": [],
   "source": [
    "#simple look up table for char encoding\n",
    "\n",
    "stoi = {s:i+1 for i,s in enumerate(chars)}\n",
    "stoi['.'] = 0\n",
    "itos = {i:s for s,i in stoi.items()}"
   ]
  },
  {
   "cell_type": "code",
   "execution_count": 166,
   "id": "5d231ae4",
   "metadata": {},
   "outputs": [],
   "source": [
    "#define the block_size which is number of characters you want to consider while predicting the next character in sequence\n",
    "\n",
    "block_size = 3\n",
    "X,Y = [],[] # INputs and predictions\n",
    "for w in words[:3]:\n",
    "    context = [0] * block_size\n",
    "    for ch in w + '.':\n",
    "        ix = stoi[ch]\n",
    "        Y.append(ix)\n",
    "        X.append(context)\n",
    "        context = context[1:] + [ix]\n",
    "\n",
    "X = torch.tensor(X)\n",
    "Y = torch.tensor(Y)"
   ]
  },
  {
   "cell_type": "code",
   "execution_count": 214,
   "id": "5a5d4152",
   "metadata": {},
   "outputs": [],
   "source": [
    "def build_data_set(words,block_size):\n",
    "    X,Y = [],[]\n",
    "    for w in words:\n",
    "        context = [0] * block_size #for each word context starts differently\n",
    "        for ch in w +'.':\n",
    "            ix = stoi[ch]\n",
    "            X.append(context)\n",
    "            Y.append(ix)\n",
    "            context = context[1:] + [ix]\n",
    "    X = torch.tensor(X)\n",
    "    Y = torch.tensor(Y)\n",
    "    return X,Y\n",
    "\n",
    "\n",
    "random.seed(42)\n",
    "random.shuffle(words)\n",
    "n1 = int(0.8*len(words))\n",
    "n2 = int(0.9*len(words))\n",
    "block_size = 3\n",
    "Xtr, Ytr = build_data_set(words[:n1],block_size)\n",
    "Xdev, Ydev = build_data_set(words[n1:n2],block_size)\n",
    "Xte, Yte = build_data_set(words[n2:],block_size)"
   ]
  },
  {
   "cell_type": "code",
   "execution_count": 259,
   "id": "50207457",
   "metadata": {},
   "outputs": [],
   "source": [
    "#defining input dimensions for embedding layers and other inner neuron layers (2 in this case)\n",
    "emb_input_size = len(chars) + 1\n",
    "n_dim = 2\n",
    "w1_input_size = block_size * n_dim\n",
    "n_neurons = 200\n",
    "w2_output_size = emb_input_size"
   ]
  },
  {
   "cell_type": "code",
   "execution_count": 260,
   "id": "033f9dad",
   "metadata": {},
   "outputs": [],
   "source": [
    "g = torch.Generator().manual_seed(2147483647) #use generator with manual seed as same to get the same results\n",
    "C = torch.rand((emb_input_size,n_dim),requires_grad = True,generator = g) #embedding look up table\n",
    "w1 = torch.rand((w1_input_size,n_neurons),requires_grad = True, generator = g)#weights\n",
    "b1 = torch.rand(n_neurons,requires_grad = True, generator = g)#bias\n",
    "w2 = torch.rand(n_neurons,w2_output_size,requires_grad = True, generator = g)\n",
    "b2 = torch.rand(w2_output_size,requires_grad = True, generator = g)\n",
    "lr = 0.1"
   ]
  },
  {
   "cell_type": "code",
   "execution_count": 261,
   "id": "b2494989",
   "metadata": {},
   "outputs": [],
   "source": [
    "params = [C,w1,b1,w2,b2] #"
   ]
  },
  {
   "cell_type": "code",
   "execution_count": 262,
   "id": "d51e5d21",
   "metadata": {},
   "outputs": [
    {
     "name": "stdout",
     "output_type": "stream",
     "text": [
      "6881\n"
     ]
    }
   ],
   "source": [
    "#checking total number of parameters for our NN\n",
    "total_params = 0\n",
    "for p in params:\n",
    "    total_params +=p.nelement()\n",
    "print(total_params)"
   ]
  },
  {
   "cell_type": "code",
   "execution_count": 267,
   "id": "560fc5ac",
   "metadata": {},
   "outputs": [
    {
     "name": "stdout",
     "output_type": "stream",
     "text": [
      "2.3876819610595703\n"
     ]
    }
   ],
   "source": [
    "#training NN\n",
    "\n",
    "for i in range(10000): #specify the iterations\n",
    "    # minibatch construct\n",
    "    ix = torch.randint(0, Xtr.shape[0], (50,))\n",
    "    #forward pass\n",
    "    emb = C[Xtr[ix]] #create the embeddings of input tensor using emb look up table\n",
    "    h = torch.tanh(emb.view(-1,block_size * n_dim) @w1 + b1)\n",
    "    logits = h @ w2 + b2 #log counts\n",
    "    loss = F.cross_entropy(logits,Ytr[ix])\n",
    "    #print(loss)\n",
    "    \n",
    "    #backward pass\n",
    "    for p in params:\n",
    "        p.grad = None\n",
    "    loss.backward()\n",
    "    \n",
    "    #update the params\n",
    "    for p in params:\n",
    "        p.data += -lr * p.grad\n",
    "print(loss.item())  "
   ]
  },
  {
   "cell_type": "code",
   "execution_count": 268,
   "id": "7025b6aa",
   "metadata": {},
   "outputs": [
    {
     "name": "stdout",
     "output_type": "stream",
     "text": [
      "2.4194250106811523\n"
     ]
    }
   ],
   "source": [
    "#check Xdev loss\n",
    "emb = C[Xdev] \n",
    "h = torch.tanh(emb.view(-1,block_size * n_dim) @w1 + b1)\n",
    "logits = h @ w2 + b2 #log counts\n",
    "loss = F.cross_entropy(logits,Ydev).item()\n",
    "print(loss)"
   ]
  },
  {
   "cell_type": "code",
   "execution_count": 269,
   "id": "116c97f1",
   "metadata": {},
   "outputs": [
    {
     "name": "stdout",
     "output_type": "stream",
     "text": [
      "2.417184829711914\n"
     ]
    }
   ],
   "source": [
    "#check Xval loss\n",
    "emb = C[Xte] \n",
    "h = torch.tanh(emb.view(-1,block_size * n_dim) @w1 + b1)\n",
    "logits = h @ w2 + b2 #log counts\n",
    "loss = F.cross_entropy(logits,Yte).item()\n",
    "print(loss)"
   ]
  },
  {
   "cell_type": "code",
   "execution_count": 271,
   "id": "c96fd8f6",
   "metadata": {},
   "outputs": [
    {
     "name": "stdout",
     "output_type": "stream",
     "text": [
      "aya.\n",
      "tamesye.\n",
      "bad.\n",
      "badtemroten.\n",
      "ellai.\n",
      "amyia.\n",
      "jam.\n",
      "vewo.\n",
      "amvaelia.\n",
      "alyno.\n"
     ]
    }
   ],
   "source": [
    "#Sampling from NN\n",
    "for i in range(10):\n",
    "    out = []\n",
    "    context = [0] * block_size\n",
    "    while True:\n",
    "        emb = C[torch.tensor(context)] \n",
    "        h = torch.tanh(emb.view(1,-1) @w1 + b1)\n",
    "        logits = h @ w2 + b2\n",
    "        probs = F.softmax(logits,1)\n",
    "        ix = torch.multinomial(probs,1).item()\n",
    "        out.append(ix)\n",
    "        context = context[1:] + [ix]\n",
    "        if ix == 0:\n",
    "            break\n",
    "    print(''.join(itos[i] for i in out))"
   ]
  },
  {
   "cell_type": "code",
   "execution_count": null,
   "id": "ee682288",
   "metadata": {},
   "outputs": [],
   "source": []
  }
 ],
 "metadata": {
  "kernelspec": {
   "display_name": "Python 3 (ipykernel)",
   "language": "python",
   "name": "python3"
  },
  "language_info": {
   "codemirror_mode": {
    "name": "ipython",
    "version": 3
   },
   "file_extension": ".py",
   "mimetype": "text/x-python",
   "name": "python",
   "nbconvert_exporter": "python",
   "pygments_lexer": "ipython3",
   "version": "3.9.13"
  }
 },
 "nbformat": 4,
 "nbformat_minor": 5
}
